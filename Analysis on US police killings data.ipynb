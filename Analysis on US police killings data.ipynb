{
 "cells": [
  {
   "cell_type": "markdown",
   "metadata": {},
   "source": [
    "<h1>US police killing - Exploratory Data Analysis, visualizations, predictions and discussions\n",
    "</h1>\n",
    "\n",
    "#### Prepared By: Josh Koh\n",
    " "
   ]
  },
  {
   "cell_type": "markdown",
   "metadata": {},
   "source": [
    "<h1>Introduction</h1> \n",
    "\n",
    "This document is written as part of my academic project -  It focuses primarily on data analysis and visualizations, with a simple random forest classifier based on the \"police-killings.csv\". The dataset consist of people who have died by being killed by a police officer in the United States. \n",
    "\n",
    "\n",
    "The content below will provide information based on my findings which will elaborate in each segment. Exploratory data analysis will first be conducted using concepts learnt; graphical and numerical summaries will be used. After initial analysis on the dataset, we will formulate my research questions and hypothesis based on the understanding on the dataset. Lastly, we will be discussing the overall findings with respect to the hypothesis and explore the possibility of revising it, before concluding the report with improvements."
   ]
  },
  {
   "cell_type": "code",
   "execution_count": 1,
   "metadata": {},
   "outputs": [],
   "source": [
    "#Import relevant packages and module required for analysis\n",
    "import pandas as pd\n",
    "import matplotlib.pyplot as plt\n",
    "import seaborn as sns\n",
    "import numpy as np\n",
    "from imblearn.over_sampling import SMOTE\n",
    "\n",
    "#train_test_split\n",
    "from sklearn.model_selection import train_test_split\n",
    "\n",
    "#models\n",
    "from sklearn.ensemble import RandomForestClassifier\n",
    "from sklearn.linear_model import LinearRegression\n",
    "\n",
    "#evaluation\n",
    "from sklearn.metrics import accuracy_score,f1_score,recall_score,r2_score,confusion_matrix,classification_report"
   ]
  },
  {
   "cell_type": "code",
   "execution_count": 2,
   "metadata": {},
   "outputs": [
    {
     "data": {
      "text/html": [
       "<div>\n",
       "<style scoped>\n",
       "    .dataframe tbody tr th:only-of-type {\n",
       "        vertical-align: middle;\n",
       "    }\n",
       "\n",
       "    .dataframe tbody tr th {\n",
       "        vertical-align: top;\n",
       "    }\n",
       "\n",
       "    .dataframe thead th {\n",
       "        text-align: right;\n",
       "    }\n",
       "</style>\n",
       "<table border=\"1\" class=\"dataframe\">\n",
       "  <thead>\n",
       "    <tr style=\"text-align: right;\">\n",
       "      <th></th>\n",
       "      <th>id</th>\n",
       "      <th>name</th>\n",
       "      <th>date</th>\n",
       "      <th>manner-of-death</th>\n",
       "      <th>armed</th>\n",
       "      <th>age</th>\n",
       "      <th>gender</th>\n",
       "      <th>race</th>\n",
       "      <th>city</th>\n",
       "      <th>state</th>\n",
       "      <th>signs-of-mental-illness</th>\n",
       "      <th>threat-level</th>\n",
       "      <th>flee</th>\n",
       "      <th>body-camera</th>\n",
       "    </tr>\n",
       "  </thead>\n",
       "  <tbody>\n",
       "    <tr>\n",
       "      <th>0</th>\n",
       "      <td>3</td>\n",
       "      <td>Tim Elliot</td>\n",
       "      <td>02/01/15</td>\n",
       "      <td>shot</td>\n",
       "      <td>gun</td>\n",
       "      <td>53.0</td>\n",
       "      <td>M</td>\n",
       "      <td>A</td>\n",
       "      <td>Shelton</td>\n",
       "      <td>WA</td>\n",
       "      <td>True</td>\n",
       "      <td>attack</td>\n",
       "      <td>Not fleeing</td>\n",
       "      <td>False</td>\n",
       "    </tr>\n",
       "    <tr>\n",
       "      <th>1</th>\n",
       "      <td>4</td>\n",
       "      <td>Lewis Lee Lembke</td>\n",
       "      <td>02/01/15</td>\n",
       "      <td>shot</td>\n",
       "      <td>gun</td>\n",
       "      <td>47.0</td>\n",
       "      <td>M</td>\n",
       "      <td>W</td>\n",
       "      <td>Aloha</td>\n",
       "      <td>OR</td>\n",
       "      <td>False</td>\n",
       "      <td>attack</td>\n",
       "      <td>Not fleeing</td>\n",
       "      <td>False</td>\n",
       "    </tr>\n",
       "    <tr>\n",
       "      <th>2</th>\n",
       "      <td>5</td>\n",
       "      <td>John Paul Quintero</td>\n",
       "      <td>03/01/15</td>\n",
       "      <td>shot and Tasered</td>\n",
       "      <td>unarmed</td>\n",
       "      <td>23.0</td>\n",
       "      <td>M</td>\n",
       "      <td>H</td>\n",
       "      <td>Wichita</td>\n",
       "      <td>KS</td>\n",
       "      <td>False</td>\n",
       "      <td>other</td>\n",
       "      <td>Not fleeing</td>\n",
       "      <td>False</td>\n",
       "    </tr>\n",
       "    <tr>\n",
       "      <th>3</th>\n",
       "      <td>8</td>\n",
       "      <td>Matthew Hoffman</td>\n",
       "      <td>04/01/15</td>\n",
       "      <td>shot</td>\n",
       "      <td>toy weapon</td>\n",
       "      <td>32.0</td>\n",
       "      <td>M</td>\n",
       "      <td>W</td>\n",
       "      <td>San Francisco</td>\n",
       "      <td>CA</td>\n",
       "      <td>True</td>\n",
       "      <td>attack</td>\n",
       "      <td>Not fleeing</td>\n",
       "      <td>False</td>\n",
       "    </tr>\n",
       "    <tr>\n",
       "      <th>4</th>\n",
       "      <td>9</td>\n",
       "      <td>Michael Rodriguez</td>\n",
       "      <td>04/01/15</td>\n",
       "      <td>shot</td>\n",
       "      <td>nail gun</td>\n",
       "      <td>39.0</td>\n",
       "      <td>M</td>\n",
       "      <td>H</td>\n",
       "      <td>Evans</td>\n",
       "      <td>CO</td>\n",
       "      <td>False</td>\n",
       "      <td>attack</td>\n",
       "      <td>Not fleeing</td>\n",
       "      <td>False</td>\n",
       "    </tr>\n",
       "  </tbody>\n",
       "</table>\n",
       "</div>"
      ],
      "text/plain": [
       "   id                name      date   manner-of-death       armed   age  \\\n",
       "0   3          Tim Elliot  02/01/15              shot         gun  53.0   \n",
       "1   4    Lewis Lee Lembke  02/01/15              shot         gun  47.0   \n",
       "2   5  John Paul Quintero  03/01/15  shot and Tasered     unarmed  23.0   \n",
       "3   8     Matthew Hoffman  04/01/15              shot  toy weapon  32.0   \n",
       "4   9   Michael Rodriguez  04/01/15              shot    nail gun  39.0   \n",
       "\n",
       "  gender race           city state  signs-of-mental-illness threat-level  \\\n",
       "0      M    A        Shelton    WA                     True       attack   \n",
       "1      M    W          Aloha    OR                    False       attack   \n",
       "2      M    H        Wichita    KS                    False        other   \n",
       "3      M    W  San Francisco    CA                     True       attack   \n",
       "4      M    H          Evans    CO                    False       attack   \n",
       "\n",
       "          flee  body-camera  \n",
       "0  Not fleeing        False  \n",
       "1  Not fleeing        False  \n",
       "2  Not fleeing        False  \n",
       "3  Not fleeing        False  \n",
       "4  Not fleeing        False  "
      ]
     },
     "execution_count": 2,
     "metadata": {},
     "output_type": "execute_result"
    }
   ],
   "source": [
    "# read the cvs file\n",
    "police_df = pd.read_csv(\"police-killings.csv\")\n",
    "police_df.head()"
   ]
  },
  {
   "cell_type": "markdown",
   "metadata": {},
   "source": [
    "# Initial data exploration\n",
    "\n",
    "We will be performing an initial data exploration on the police-killings-data.csv to gain a better understanding of the dataset. Basic in-built function will be used to identify key insights that might be useful for the subsequent analysis\n",
    "\n"
   ]
  },
  {
   "cell_type": "code",
   "execution_count": 3,
   "metadata": {},
   "outputs": [
    {
     "name": "stdout",
     "output_type": "stream",
     "text": [
      "<class 'pandas.core.frame.DataFrame'>\n",
      "RangeIndex: 2535 entries, 0 to 2534\n",
      "Data columns (total 14 columns):\n",
      " #   Column                   Non-Null Count  Dtype  \n",
      "---  ------                   --------------  -----  \n",
      " 0   id                       2535 non-null   int64  \n",
      " 1   name                     2535 non-null   object \n",
      " 2   date                     2535 non-null   object \n",
      " 3   manner-of-death          2535 non-null   object \n",
      " 4   armed                    2526 non-null   object \n",
      " 5   age                      2458 non-null   float64\n",
      " 6   gender                   2535 non-null   object \n",
      " 7   race                     2340 non-null   object \n",
      " 8   city                     2535 non-null   object \n",
      " 9   state                    2535 non-null   object \n",
      " 10  signs-of-mental-illness  2535 non-null   bool   \n",
      " 11  threat-level             2535 non-null   object \n",
      " 12  flee                     2470 non-null   object \n",
      " 13  body-camera              2535 non-null   bool   \n",
      "dtypes: bool(2), float64(1), int64(1), object(10)\n",
      "memory usage: 242.7+ KB\n"
     ]
    }
   ],
   "source": [
    "#Use .info() to summarize and get a base understanding of the dataset\n",
    "police_df.info()"
   ]
  },
  {
   "cell_type": "markdown",
   "metadata": {},
   "source": [
    ".info() indicated a variety of missing values in columns such as: \"armed\", \"age\", \"race\", \"flee\". More actions will be done to explore the missing values and the most suitable way to impute the missing values."
   ]
  },
  {
   "cell_type": "code",
   "execution_count": 4,
   "metadata": {},
   "outputs": [
    {
     "data": {
      "text/html": [
       "<div>\n",
       "<style scoped>\n",
       "    .dataframe tbody tr th:only-of-type {\n",
       "        vertical-align: middle;\n",
       "    }\n",
       "\n",
       "    .dataframe tbody tr th {\n",
       "        vertical-align: top;\n",
       "    }\n",
       "\n",
       "    .dataframe thead th {\n",
       "        text-align: right;\n",
       "    }\n",
       "</style>\n",
       "<table border=\"1\" class=\"dataframe\">\n",
       "  <thead>\n",
       "    <tr style=\"text-align: right;\">\n",
       "      <th></th>\n",
       "      <th>id</th>\n",
       "      <th>age</th>\n",
       "    </tr>\n",
       "  </thead>\n",
       "  <tbody>\n",
       "    <tr>\n",
       "      <th>count</th>\n",
       "      <td>2535.000000</td>\n",
       "      <td>2458.000000</td>\n",
       "    </tr>\n",
       "    <tr>\n",
       "      <th>mean</th>\n",
       "      <td>1445.731755</td>\n",
       "      <td>36.605370</td>\n",
       "    </tr>\n",
       "    <tr>\n",
       "      <th>std</th>\n",
       "      <td>794.259490</td>\n",
       "      <td>13.030774</td>\n",
       "    </tr>\n",
       "    <tr>\n",
       "      <th>min</th>\n",
       "      <td>3.000000</td>\n",
       "      <td>6.000000</td>\n",
       "    </tr>\n",
       "    <tr>\n",
       "      <th>25%</th>\n",
       "      <td>768.500000</td>\n",
       "      <td>26.000000</td>\n",
       "    </tr>\n",
       "    <tr>\n",
       "      <th>50%</th>\n",
       "      <td>1453.000000</td>\n",
       "      <td>34.000000</td>\n",
       "    </tr>\n",
       "    <tr>\n",
       "      <th>75%</th>\n",
       "      <td>2126.500000</td>\n",
       "      <td>45.000000</td>\n",
       "    </tr>\n",
       "    <tr>\n",
       "      <th>max</th>\n",
       "      <td>2822.000000</td>\n",
       "      <td>91.000000</td>\n",
       "    </tr>\n",
       "  </tbody>\n",
       "</table>\n",
       "</div>"
      ],
      "text/plain": [
       "                id          age\n",
       "count  2535.000000  2458.000000\n",
       "mean   1445.731755    36.605370\n",
       "std     794.259490    13.030774\n",
       "min       3.000000     6.000000\n",
       "25%     768.500000    26.000000\n",
       "50%    1453.000000    34.000000\n",
       "75%    2126.500000    45.000000\n",
       "max    2822.000000    91.000000"
      ]
     },
     "execution_count": 4,
     "metadata": {},
     "output_type": "execute_result"
    }
   ],
   "source": [
    "# Use .describe() to get a numerical description of the dataset\n",
    "police_df.describe()"
   ]
  },
  {
   "cell_type": "markdown",
   "metadata": {},
   "source": [
    ".describe() shows only the numerical data, in this case \"id\" and \"age.\" Since the unique id is not useful in this case for analysis, we can consider dropping it. This description also help us understand that majority of the columns contains object type, represented by strings. It provides an idea on the what type of model to use between a classification model or a regression model."
   ]
  },
  {
   "cell_type": "code",
   "execution_count": 5,
   "metadata": {},
   "outputs": [
    {
     "name": "stdout",
     "output_type": "stream",
     "text": [
      "shot                2363\n",
      "shot and Tasered     172\n",
      "Name: manner-of-death, dtype: int64\n",
      "gun             1398\n",
      "knife            373\n",
      "vehicle          177\n",
      "unarmed          171\n",
      "undetermined     117\n",
      "                ... \n",
      "hand torch         1\n",
      "garden tool        1\n",
      "pole               1\n",
      "pick-axe           1\n",
      "pen                1\n",
      "Name: armed, Length: 68, dtype: int64\n",
      "M    2428\n",
      "F     107\n",
      "Name: gender, dtype: int64\n",
      "W    1201\n",
      "B     618\n",
      "H     423\n",
      "A      39\n",
      "N      31\n",
      "O      28\n",
      "Name: race, dtype: int64\n",
      "False    1902\n",
      "True      633\n",
      "Name: signs-of-mental-illness, dtype: int64\n",
      "attack          1611\n",
      "other            766\n",
      "undetermined     158\n",
      "Name: threat-level, dtype: int64\n",
      "Not fleeing    1695\n",
      "Car             385\n",
      "Foot            294\n",
      "Other            96\n",
      "Name: flee, dtype: int64\n",
      "False    2264\n",
      "True      271\n",
      "Name: body-camera, dtype: int64\n"
     ]
    }
   ],
   "source": [
    "# Check the distribution of various attributes\n",
    "print(police_df[\"manner-of-death\"].value_counts())\n",
    "print(police_df[\"armed\"].value_counts())\n",
    "print(police_df[\"gender\"].value_counts())\n",
    "print(police_df[\"race\"].value_counts())\n",
    "print(police_df[\"signs-of-mental-illness\"].value_counts())\n",
    "print(police_df[\"threat-level\"].value_counts())\n",
    "print(police_df[\"flee\"].value_counts()) \n",
    "print(police_df[\"body-camera\"].value_counts()) "
   ]
  },
  {
   "cell_type": "markdown",
   "metadata": {},
   "source": [
    "## Description of the dataset\n",
    "\n",
    "In this section, I will be describing the police dataset (police-killings-data.csv), explaining the type and meaning of each data with context with all the information I have gathered during the exploratory data analysis. \n",
    "\n",
    "The datset consist of 2535 rows and 14 columns that contains information on the people who have died by being shot by police officers across all of the United States. \n",
    "\n",
    "### Id\n",
    "The first column id shows the unique id of each row (deceased personnel). The ids are formatted in integers and ranges from 0 to 2822 which does not correspond to the number of rows in the dataset. However, it is unlikely that the unique id will be useful in the analysis, regardless if it is a classification or regression model.\n",
    "\n",
    "### Name\n",
    "The name of the deceased being killed by a police officer. Similar to the id, it is unlikely that the name will be useful in the analysis since we will be performing a regression or classification model\n",
    "\n",
    "### Date\n",
    "The date column can be ordinal, categorical or both. It depends on what these dates represent and what we are trying to answer with them with. In our case, I believe it is more suitable for categorical.\n",
    "\n",
    "### Manner-of-death\n",
    "Manner of death is a categorical nominal variables showing how the deceased was being killed. The values are stored as a object type, represented by strings. One of the reason for death is \"shot and tasered\", I would like to make a logic assumption that a person is tasered before getting shot at. I would like to dive deeper into why a person would be tasered.\n",
    "\n",
    "### Armed \n",
    "This is a categorical nominal variables showing whether the deceased ws armed at the time of death. There are different types of weapons listed. There are 68 different weapons, ranging from gun to crowbar to pen. All of which could cause serious injuries or death. \n",
    "\n",
    "### Age\n",
    "The age column is a numerical continuous variable that provides the age range for all the deceased in the dataset. It ranges from 6 to 91 years old. It is represented in float64 data type. There is flexibility in classifying the age into different range of categories for analysis if needed.\n",
    "\n",
    "### Gender\n",
    "This is a categorical nominal variable showing the sexual orientation of a deceased, represented by either M or F, stored as a string.\n",
    "\n",
    "### Race\n",
    "According to the offical website of the United States government (https://www.census.gov/quickfacts/fact/table/US/PST045221), the races can be described as the following below.\n",
    "Since A can be either \"Asians\" or \"American Indian and Alaska Native\", I am going to make a reasonable assumption that  A in this case represent Asians.\n",
    "\n",
    "w - White - A person having origins in any of the original peoples of Europe, the Middle East, or North Africa. It includes people who indicate their race as \"White\" or report entries such as Irish, German, Italian, Lebanese, Arab, Moroccan, or Caucasian.\n",
    "\n",
    "B - Black or African American - A person having origins in any of the Black racial groups of Africa. It includes people who indicate their race as \"Black or African American,\" or report entries such as African American, Kenyan, Nigerian, or Haitian.\n",
    "\n",
    "H - Hispanic -Hispanics or Latino refers to a person of Cuban, Mexican, Puerto Rican, South or Central American, or other Spanish culture or origin regardless of race.\n",
    "\n",
    "A - Asian\n",
    "\n",
    "N - Native Hawaiian and Other Pacific Islander - A person having origins in any of the original peoples of Hawaii, Guam, Samoa, or other Pacific Islands. It includes people who reported their race as \"Fijian,\" \"Guamanian or Chamorro,\" \"Marshallese,\" \"Native Hawaiian,\" \"Samoan,\" \"Tongan,\" and \"Other Pacific Islander\" or provide other detailed Pacific Islander responses.\n",
    "\n",
    "\n",
    "O - Others - respondents wrote how they identified themselves if different from the preceding categories \n",
    "\n",
    "### City and State\n",
    "The city and state column is a tricky one. It could either be the city and state where the deceased lived, or the city and state he/she was killed. A fair assumption for this dataset would be the latter. \n",
    "\n",
    "### signs-of-mental-illness\n",
    "This is a bool variable showing whether a deceased was mentally ill. It is represented by string values, True or False.\n",
    "\n",
    "### threat-level \n",
    "This is a categorical nominal variable showing whether a deceased display hostile behaviors. It consist of 3 levels, which could help to determine if hostile behavior is a good factor for police to fire a shot. This will be a key attribute in the coming analysis.\n",
    "\n",
    "### flee\n",
    "This is an important attribute for analysing a person's behavior. The Flee column is a categorical nominal variable represented by strings, indicating if a deceased made an attempt to flee the crime scene or not. \n",
    "\n",
    "\n",
    "### body-camera\n",
    "This is a categorical nominal variable showing whether a police officer is wearing a body camera. This may be important in understanding the thought process of a police officer, but unlikely to be useful in this analysis."
   ]
  },
  {
   "cell_type": "markdown",
   "metadata": {},
   "source": [
    "<h1>Research Hypothesis and questions</h1>\n",
    "\n",
    "Preliminary data analysis has raised the questions as to which variables has the highest influence on the death rates of the people residing in the United States. According to **Statista**, approximately 1,055 people were shot by the police in the United States in 2021, an increasing number since 2017 (987 shot). Identifying the factors that determines the causes of death on the sample size of 2535 people in this dataset could lead to a better understanding towards the general population of citizens in the US. For example, if we can identify a group of people with specific demographics or a set of behaviors that led to deceased being shot by the police, more actions could be taken towards minimising the total death rate. Possible actions can range from policies to education to laws and regulations. The public can also be educated on how not to behave to prevent being shot by the police.\n",
    "\n",
    "As there could be many different hypothesis based on the amount of information provided by the dataset, we will attempt to find a relationship between:\n",
    "- The rate of being shot is related to the deceased behavior before being shot\n",
    "\n",
    "\n",
    "Since we will be focusing on the bahaviors of the deceased before being shot, we will **not** be using columns such as id, name, date, city and state. As majority of the factors are not related to the bahaviors of the deceased. \n",
    "\n",
    "I hypothesize that a person would most likely be shot (not tasered and shot) by a police officer in the United States if he/she carries a weapon and exhibit hostile behaviors. I believe there is a high correlation between the former and latter, since it is reasonable to assume that demonstrating hostile bahaviors while carrying a weapon capable of killing is extremely dangerous to both the public and police officers. I expect a large number of people to be killed by a police officer if he/she displays hostile behavior and has a weapon. \n",
    "\n",
    "\n",
    "It will be interesting to see if these factors will contribute to the overall chances of being shot by a police officer in the United States.\n",
    "\n",
    "\n",
    "<h2>Analytical questions to aid EDA</h2>\n",
    "Here, we will formulate interesting questions to help with the in-depth exploratory data analysis. Answers to these questions may help to identify the direction of the analysis.\n",
    "    \n",
    "1. Is there a trend in the amount of people that were shot over a timeframe?\n",
    "\n",
    "2. Is the cause of death attributed to discriminative reasons (i.e. race, gender)?\n",
    "\n",
    "3. Are people getting killed because they display high level of threat?\n",
    "\n",
    "4. Are people getting killed because they are trying to flee a crime scene?\n",
    "\n",
    "5. Is there a correlation as to why some people are tasered and shot, whereas some are just shot?\n",
    "\n",
    "6. Is armed weapon the main contributor as to why people got shot by the police?"
   ]
  },
  {
   "cell_type": "markdown",
   "metadata": {},
   "source": [
    "# Thorough Exploratory Data Analysis (EDA)\n",
    "\n",
    "We will be performing a more in-depth exploratory data analysis on the police-killings.csv to get from inaights from the dataset. Various methods such as graphical and numerical summaries will be used to explore the statistics and distribution of the variables."
   ]
  },
  {
   "cell_type": "code",
   "execution_count": 6,
   "metadata": {},
   "outputs": [
    {
     "data": {
      "text/plain": [
       "<matplotlib.legend.Legend at 0x7fe4b8366670>"
      ]
     },
     "execution_count": 6,
     "metadata": {},
     "output_type": "execute_result"
    },
    {
     "data": {
      "image/png": "[encoded data removed]",
      "text/plain": [
       "<Figure size 432x288 with 1 Axes>"
      ]
     },
     "metadata": {
      "needs_background": "light"
     },
     "output_type": "display_data"
    }
   ],
   "source": [
    "# Analyze the manner of death with respect to the race \n",
    "df_deathBivariate = police_df.groupby('manner-of-death')['race'].value_counts().unstack()\n",
    "\n",
    "\n",
    "ax = df_deathBivariate.plot(kind='bar', stacked='True', title = str(df_deathBivariate.round(1)))\n",
    "ax.legend(bbox_to_anchor=(1.0, 1.0))"
   ]
  },
  {
   "cell_type": "markdown",
   "metadata": {},
   "source": [
    "Although the image is visually cluttered where some labels are hard to see, we could see a rough overview on the distribution of various races being shot at, or shot and tasered. This diagram shows that White, Black and Hispanic people are the majority of people being shot at. "
   ]
  },
  {
   "cell_type": "code",
   "execution_count": 7,
   "metadata": {},
   "outputs": [
    {
     "name": "stderr",
     "output_type": "stream",
     "text": [
      "/opt/anaconda3/lib/python3.8/site-packages/seaborn/_decorators.py:36: FutureWarning: Pass the following variable as a keyword arg: x. From version 0.12, the only valid positional argument will be `data`, and passing other arguments without an explicit keyword will result in an error or misinterpretation.\n",
      "  warnings.warn(\n"
     ]
    },
    {
     "data": {
      "image/png": "[encoded data removed]",
      "text/plain": [
       "<Figure size 432x288 with 1 Axes>"
      ]
     },
     "metadata": {
      "needs_background": "light"
     },
     "output_type": "display_data"
    },
    {
     "data": {
      "image/png": "[encoded data removed]",
      "text/plain": [
       "<Figure size 576x576 with 1 Axes>"
      ]
     },
     "metadata": {},
     "output_type": "display_data"
    }
   ],
   "source": [
    "# plot the distribution of death by race\n",
    "ax = sns.countplot(police_df[\"race\"],order=police_df[\"race\"].value_counts().index)\n",
    "for p, label in zip(ax.patches, police_df[\"race\"].value_counts()):\n",
    "    ax.annotate(label, (p.get_x()+.375, p.get_height()+0.15))\n",
    "\n",
    "    \n",
    "plt.figure(figsize=(8,8))\n",
    "\n",
    "plt.pie(police_df[\"race\"].value_counts(),\n",
    "       labels=[\"White\",\"Black\",\"Hispanic\",\"Asian\", \"Native Hawaii\", \"Others\"],\n",
    "       autopct='%.0f%%',\n",
    "       colors=sns.color_palette(\"coolwarm\",5));"
   ]
  },
  {
   "cell_type": "markdown",
   "metadata": {},
   "source": [
    "It is interesting that more white Americans are killed, as compared to Black American. This is surprising because of the publicised news on social media. For instance, high profile cases such as george floyd and movements such as black lives matter. However, although white Americans makes up 51% of total death, they make up 61.6% of the total population in 2020. While black American makes up 12.6% of the total population. In terms of percentage, black people seem more probable to be shot by police officers."
   ]
  },
  {
   "cell_type": "code",
   "execution_count": 8,
   "metadata": {},
   "outputs": [
    {
     "name": "stderr",
     "output_type": "stream",
     "text": [
      "/opt/anaconda3/lib/python3.8/site-packages/seaborn/_decorators.py:36: FutureWarning: Pass the following variable as a keyword arg: x. From version 0.12, the only valid positional argument will be `data`, and passing other arguments without an explicit keyword will result in an error or misinterpretation.\n",
      "  warnings.warn(\n"
     ]
    },
    {
     "data": {
      "image/png": "[encoded data removed]",
      "text/plain": [
       "<Figure size 432x288 with 1 Axes>"
      ]
     },
     "metadata": {
      "needs_background": "light"
     },
     "output_type": "display_data"
    },
    {
     "data": {
      "image/png": "[encoded data removed]",
      "text/plain": [
       "<Figure size 576x576 with 1 Axes>"
      ]
     },
     "metadata": {},
     "output_type": "display_data"
    }
   ],
   "source": [
    "# Plot the gender distribution\n",
    "ax = sns.countplot(police_df[\"gender\"],order=police_df[\"gender\"].value_counts().index)\n",
    "for p, label in zip(ax.patches, police_df[\"gender\"].value_counts()):\n",
    "    ax.annotate(label, (p.get_x()+.375, p.get_height()+0.15))\n",
    "\n",
    "    \n",
    "plt.figure(figsize=(8,8))\n",
    "\n",
    "plt.pie(police_df[\"gender\"].value_counts(),\n",
    "       labels=[\"Men\",\"Women\"],\n",
    "       autopct='%.0f%%',\n",
    "       colors=sns.color_palette(\"coolwarm\",5));"
   ]
  },
  {
   "cell_type": "markdown",
   "metadata": {},
   "source": [
    "This visualization shows a highly imbalanced proportion of distribution between men and women in this dataset. 96% of the people (2428) being shot by police officers are men, compared to 4% of women (107). This indicates that men are far more likely to be shot by a police officer. This could also lead to a deeper analysis on finding out whether these men are in possesion of armed weapons at the time of death."
   ]
  },
  {
   "cell_type": "code",
   "execution_count": 9,
   "metadata": {},
   "outputs": [
    {
     "data": {
      "image/png": "[encoded data removed]",
      "text/plain": [
       "<Figure size 936x504 with 1 Axes>"
      ]
     },
     "metadata": {
      "needs_background": "light"
     },
     "output_type": "display_data"
    }
   ],
   "source": [
    "# Find a reason why a deceased is being tasered before getting shot\n",
    "armed_and_tasered = police_df[police_df['manner-of-death']==\"shot and Tasered\"]['armed']\n",
    "\n",
    "f, ax = plt.subplots(figsize=(13,7))\n",
    "armed_and_tasered.value_counts().plot(kind=\"barh\")\n",
    "ax.invert_yaxis()"
   ]
  },
  {
   "cell_type": "markdown",
   "metadata": {},
   "source": [
    "This graph explains one of the possible reason why a person would be tasered before getting shot. It is fairly reasonable that a person holding a knife would have to be physically close to a person in order to do harm. With that said, it is common for police officers to fire a taser gun at someone with the intention to do harm, before a person with a knife can get close to someone. A logical reason why gun is ranked 3rd is because an intuitive action when a person holds a gun would be to shoot him/her immediately, without the risk of the perpetrator retaliating. However, one reason why the deceased ended up dead could be that the taser gun is not enough to stop the violent behavior or act."
   ]
  },
  {
   "cell_type": "code",
   "execution_count": 10,
   "metadata": {},
   "outputs": [
    {
     "data": {
      "image/png": "[encoded data removed]",
      "text/plain": [
       "<Figure size 936x720 with 1 Axes>"
      ]
     },
     "metadata": {
      "needs_background": "light"
     },
     "output_type": "display_data"
    }
   ],
   "source": [
    "# Find out the main reason why a person is shot\n",
    "armed_and_tasered = police_df[police_df['manner-of-death']==\"shot\"]['armed']\n",
    "\n",
    "f, ax = plt.subplots(figsize=(13,10))\n",
    "armed_and_tasered.value_counts().plot(kind=\"barh\")\n",
    "ax.invert_yaxis()"
   ]
  },
  {
   "cell_type": "markdown",
   "metadata": {},
   "source": [
    "As expected, indeed a person holding a gun is shot at immediately without firing a taser gun first. This could be because a gun can do serious damage within a wide range compared to a close combat weapon."
   ]
  },
  {
   "cell_type": "code",
   "execution_count": 11,
   "metadata": {},
   "outputs": [
    {
     "data": {
      "image/png": "[encoded data removed]",
      "text/plain": [
       "<Figure size 576x576 with 1 Axes>"
      ]
     },
     "metadata": {},
     "output_type": "display_data"
    }
   ],
   "source": [
    "# plot the distribution of mental-health issues\n",
    "plt.figure(figsize=(8,8))\n",
    "\n",
    "plt.pie(police_df[\"signs-of-mental-illness\"].value_counts(),\n",
    "       labels=[\"No mental health issues\",\"Mental health issues\"],\n",
    "       autopct='%.0f%%',\n",
    "       colors=sns.color_palette(\"coolwarm\",5));"
   ]
  },
  {
   "cell_type": "markdown",
   "metadata": {},
   "source": [
    "Many of the stories and news that were broadcast on televisions and social medias are often due to race discrimination, police officers' self defense, or putting a stop to violent acts. However, this information offers an important perspective regarding the killing of people by police officers in the United States. Although 75% does not have mental illness, it raises the question of mental health issues amongst victims of police-caused fatalities. "
   ]
  },
  {
   "cell_type": "code",
   "execution_count": 12,
   "metadata": {},
   "outputs": [
    {
     "data": {
      "text/plain": [
       "<matplotlib.legend.Legend at 0x7fe4bde38be0>"
      ]
     },
     "execution_count": 12,
     "metadata": {},
     "output_type": "execute_result"
    },
    {
     "data": {
      "image/png": "[encoded data removed]",
      "text/plain": [
       "<Figure size 432x288 with 1 Axes>"
      ]
     },
     "metadata": {
      "needs_background": "light"
     },
     "output_type": "display_data"
    }
   ],
   "source": [
    "#Analyze how many people that were shot or tasered and shot had mental-health issues\n",
    "Bivariate = police_df.groupby('manner-of-death')['signs-of-mental-illness'].value_counts().unstack()\n",
    "\n",
    "ax = Bivariate.plot(kind='bar', stacked='True', title = str(Bivariate.round(1)))\n",
    "#place legend outside the chart\n",
    "ax.legend(bbox_to_anchor=(1.0, 1.0))"
   ]
  },
  {
   "cell_type": "markdown",
   "metadata": {},
   "source": [
    "A large portion of the people that were shot or tasered and shot does not have mental illnesses. This is not surprising as many of the reported cases acted with a clear motive."
   ]
  },
  {
   "cell_type": "code",
   "execution_count": 13,
   "metadata": {},
   "outputs": [
    {
     "data": {
      "text/plain": [
       "<AxesSubplot:>"
      ]
     },
     "execution_count": 13,
     "metadata": {},
     "output_type": "execute_result"
    },
    {
     "data": {
      "image/png": "[encoded data removed]",
      "text/plain": [
       "<Figure size 432x288 with 1 Axes>"
      ]
     },
     "metadata": {
      "needs_background": "light"
     },
     "output_type": "display_data"
    }
   ],
   "source": [
    "police_df['age'].hist()"
   ]
  },
  {
   "cell_type": "markdown",
   "metadata": {},
   "source": [
    "This looks like a normal distribution, with a little right skew. This shows that most people that were killed are in the mid 30s, with the median being 34 and mean age of 36.6"
   ]
  },
  {
   "cell_type": "code",
   "execution_count": 14,
   "metadata": {},
   "outputs": [
    {
     "data": {
      "text/plain": [
       "<matplotlib.legend.Legend at 0x7fe4bdfc7160>"
      ]
     },
     "execution_count": 14,
     "metadata": {},
     "output_type": "execute_result"
    },
    {
     "data": {
      "image/png": "[encoded data removed]",
      "text/plain": [
       "<Figure size 432x288 with 1 Axes>"
      ]
     },
     "metadata": {
      "needs_background": "light"
     },
     "output_type": "display_data"
    }
   ],
   "source": [
    "df_raceBivariate = police_df.groupby('race')['manner-of-death'].value_counts().unstack()\n",
    "ax = df_raceBivariate.plot(kind='bar', stacked='True', title = str(df_raceBivariate.round(1)))\n",
    "#place legend outside the chart\n",
    "ax.legend(bbox_to_anchor=(1.0, 1.0))"
   ]
  },
  {
   "cell_type": "markdown",
   "metadata": {},
   "source": [
    "This diagram shows that majority of the races are shot, instead of both shot and tasered.The proportion seem to be the same across all races, which may indicate that a certain set of behaviors presented by people would result in them being tasered."
   ]
  },
  {
   "cell_type": "code",
   "execution_count": 15,
   "metadata": {},
   "outputs": [
    {
     "data": {
      "text/plain": [
       "<matplotlib.legend.Legend at 0x7fe4bdfcbd60>"
      ]
     },
     "execution_count": 15,
     "metadata": {},
     "output_type": "execute_result"
    },
    {
     "data": {
      "image/png": "[encoded data removed]",
      "text/plain": [
       "<Figure size 432x288 with 1 Axes>"
      ]
     },
     "metadata": {
      "needs_background": "light"
     },
     "output_type": "display_data"
    }
   ],
   "source": [
    "#Analyze the threat level with respect to how they were killed\n",
    "threat = police_df.groupby('threat-level')['manner-of-death'].value_counts().unstack()\n",
    "\n",
    "ax = threat.plot(kind='bar', stacked='True', title = str(threat.round(1)))\n",
    "#place legend outside the chart\n",
    "ax.legend(bbox_to_anchor=(1.0, 1.0))\n"
   ]
  },
  {
   "cell_type": "markdown",
   "metadata": {},
   "source": [
    "This graph further support the hypothesis that a hostile behavior leads to a higher chance of being killed by a police officer. This is indicated through the manner of death shown, where people that are attacking are most often shot before being tasered first. This means that the act of the deceased could cause immediately harm or danger."
   ]
  },
  {
   "cell_type": "code",
   "execution_count": 16,
   "metadata": {},
   "outputs": [
    {
     "data": {
      "image/png": "[encoded data removed]",
      "text/plain": [
       "<Figure size 432x288 with 1 Axes>"
      ]
     },
     "metadata": {
      "needs_background": "light"
     },
     "output_type": "display_data"
    }
   ],
   "source": [
    "# View the age of people (M & F) who got shot by the police officers\n",
    "sns.boxplot(x=\"gender\", y=\"age\", hue=police_df['manner-of-death'], data=police_df, palette=\"PRGn\")\n",
    "plt.show()"
   ]
  },
  {
   "cell_type": "markdown",
   "metadata": {},
   "source": [
    "This boxplot gives a good indication of the age where people were shot by the police officers. Overall, the age range for males that were being shot is wider than that of females. The age of males that are being shot are generally higher and lower than females. Lets analyze the only outlier in the female category that as being \"shot and tasered\". "
   ]
  },
  {
   "cell_type": "code",
   "execution_count": 17,
   "metadata": {},
   "outputs": [
    {
     "name": "stdout",
     "output_type": "stream",
     "text": [
      "        id            name      date   manner-of-death  armed   age gender  \\\n",
      "2083  2326  Michelle Robey  10/02/17  shot and Tasered  knife  55.0      F   \n",
      "\n",
      "     race     city state  signs-of-mental-illness threat-level         flee  \\\n",
      "2083    W  Chicago    IL                     True       attack  Not fleeing   \n",
      "\n",
      "      body-camera  \n",
      "2083        False  \n",
      "        id                  name      date manner-of-death       armed   age  \\\n",
      "127    255        Douglas Harris  20/02/15            shot         gun  77.0   \n",
      "275    357   Richard Dale Weaver  12/04/15            shot     machete  83.0   \n",
      "315    406         Albert Hanson  26/04/15            shot         gun  76.0   \n",
      "426    542     Raymond  Phillips  11/06/15            shot         gun  86.0   \n",
      "518    641      Charles Crandall  14/07/15            shot         gun  76.0   \n",
      "598    724  Robert Patrick Quinn  09/08/15            shot  toy weapon  77.0   \n",
      "664    797   Charles Robert Shaw  01/09/15            shot         gun  76.0   \n",
      "1431  1621       Edward Acquisto  13/06/16            shot         gun  80.0   \n",
      "1631  1822        Darrel Hetrick  27/08/16            shot         gun  82.0   \n",
      "1675  1880          Eugene Craig  12/09/16            shot         gun  86.0   \n",
      "1798  2008         Henry Simpson  01/11/16            shot         gun  76.0   \n",
      "1878  2095      Quinton Phillips  01/12/16            shot         gun  83.0   \n",
      "2160  2407       Frank W. Wratny  08/03/17            shot         gun  91.0   \n",
      "2268  2524         Robert Becker  24/04/17            shot         gun  79.0   \n",
      "2390  2653    Theodore Brendecke  09/06/17            shot         gun  82.0   \n",
      "\n",
      "     gender race            city state  signs-of-mental-illness threat-level  \\\n",
      "127       M    B      Birmingham    AL                     True       attack   \n",
      "275       M    W   Oklahoma City    OK                     True        other   \n",
      "315       M    W    Kings County    CA                    False       attack   \n",
      "426       M  NaN        Columbia    TN                     True       attack   \n",
      "518       M  NaN     Southington    OH                    False       attack   \n",
      "598       M  NaN        Pittston    PA                     True       attack   \n",
      "664       M    W       Twinsburg    OH                    False       attack   \n",
      "1431      M    H        Tiverton    RI                    False       attack   \n",
      "1631      M    W      Morgantown    WV                    False       attack   \n",
      "1675      M  NaN        Saratoga    CA                    False        other   \n",
      "1798      M    W     Carson City    NV                    False        other   \n",
      "1878      M    W           Dover    AR                    False       attack   \n",
      "2160      M    W  Union Township    PA                    False       attack   \n",
      "2268      M    W    Stewartstown    PA                     True       attack   \n",
      "2390      M    W           Miami    FL                     True       attack   \n",
      "\n",
      "             flee  body-camera  \n",
      "127   Not fleeing        False  \n",
      "275   Not fleeing        False  \n",
      "315   Not fleeing        False  \n",
      "426   Not fleeing        False  \n",
      "518   Not fleeing        False  \n",
      "598   Not fleeing        False  \n",
      "664   Not fleeing        False  \n",
      "1431          Car        False  \n",
      "1631  Not fleeing         True  \n",
      "1675  Not fleeing        False  \n",
      "1798  Not fleeing        False  \n",
      "1878  Not fleeing        False  \n",
      "2160  Not fleeing        False  \n",
      "2268  Not fleeing        False  \n",
      "2390          NaN        False  \n"
     ]
    }
   ],
   "source": [
    "females = police_df[police_df['gender']==\"F\"]\n",
    "female_tasered = females[females['manner-of-death'] =='shot and Tasered']\n",
    "print(female_tasered[female_tasered['age'] > 40])\n",
    "\n",
    "males = police_df[police_df['gender']==\"M\"]\n",
    "males_shot = males[males['manner-of-death'] =='shot']\n",
    "print(males_shot[males_shot['age']> 75])"
   ]
  },
  {
   "cell_type": "markdown",
   "metadata": {},
   "source": [
    "Further analysis shows that the outliers in males are typically not caused by mental illnesses. This could just be a fact that males are more likely to behave in a way (commit crimes or cause harm) that result in them getting shot by the police officers. On the other hand, the only female outliers who was \"shot and tasered\" clearly had mental-illness. Her being the only outlier in that category made sense because of her mental illness."
   ]
  },
  {
   "cell_type": "markdown",
   "metadata": {},
   "source": [
    "<h1>Data cleaning and preparation</h1>\n",
    "\n",
    "In an ideal scenario, we are expected to receive daatsets that are cleaned and sanitized. However, that is often not the case in real life. Dataset needs to be cleaned in order for us to perform a accurate and fruitful analysis. Data pre-processing includes dropping, manipulating, and combining different variables in order to fit the variables into the selected models for predictions or classifications. \n",
    "\n",
    "We will be handling missing values and outliers, and transform some of the variables into more suitable forms for the machine learning algorithm. "
   ]
  },
  {
   "cell_type": "markdown",
   "metadata": {},
   "source": [
    "### Removing and renaming columns\n",
    "Below shows the dataframe after I removed all the columns we will not be using."
   ]
  },
  {
   "cell_type": "code",
   "execution_count": 18,
   "metadata": {},
   "outputs": [
    {
     "data": {
      "text/html": [
       "<div>\n",
       "<style scoped>\n",
       "    .dataframe tbody tr th:only-of-type {\n",
       "        vertical-align: middle;\n",
       "    }\n",
       "\n",
       "    .dataframe tbody tr th {\n",
       "        vertical-align: top;\n",
       "    }\n",
       "\n",
       "    .dataframe thead th {\n",
       "        text-align: right;\n",
       "    }\n",
       "</style>\n",
       "<table border=\"1\" class=\"dataframe\">\n",
       "  <thead>\n",
       "    <tr style=\"text-align: right;\">\n",
       "      <th></th>\n",
       "      <th>manner-of-death</th>\n",
       "      <th>armed</th>\n",
       "      <th>age</th>\n",
       "      <th>gender</th>\n",
       "      <th>race</th>\n",
       "      <th>mental-illness</th>\n",
       "      <th>threat-level</th>\n",
       "      <th>flee</th>\n",
       "    </tr>\n",
       "  </thead>\n",
       "  <tbody>\n",
       "    <tr>\n",
       "      <th>0</th>\n",
       "      <td>shot</td>\n",
       "      <td>gun</td>\n",
       "      <td>53.0</td>\n",
       "      <td>M</td>\n",
       "      <td>A</td>\n",
       "      <td>True</td>\n",
       "      <td>attack</td>\n",
       "      <td>Not fleeing</td>\n",
       "    </tr>\n",
       "    <tr>\n",
       "      <th>1</th>\n",
       "      <td>shot</td>\n",
       "      <td>gun</td>\n",
       "      <td>47.0</td>\n",
       "      <td>M</td>\n",
       "      <td>W</td>\n",
       "      <td>False</td>\n",
       "      <td>attack</td>\n",
       "      <td>Not fleeing</td>\n",
       "    </tr>\n",
       "    <tr>\n",
       "      <th>2</th>\n",
       "      <td>shot and Tasered</td>\n",
       "      <td>unarmed</td>\n",
       "      <td>23.0</td>\n",
       "      <td>M</td>\n",
       "      <td>H</td>\n",
       "      <td>False</td>\n",
       "      <td>other</td>\n",
       "      <td>Not fleeing</td>\n",
       "    </tr>\n",
       "    <tr>\n",
       "      <th>3</th>\n",
       "      <td>shot</td>\n",
       "      <td>toy weapon</td>\n",
       "      <td>32.0</td>\n",
       "      <td>M</td>\n",
       "      <td>W</td>\n",
       "      <td>True</td>\n",
       "      <td>attack</td>\n",
       "      <td>Not fleeing</td>\n",
       "    </tr>\n",
       "    <tr>\n",
       "      <th>4</th>\n",
       "      <td>shot</td>\n",
       "      <td>nail gun</td>\n",
       "      <td>39.0</td>\n",
       "      <td>M</td>\n",
       "      <td>H</td>\n",
       "      <td>False</td>\n",
       "      <td>attack</td>\n",
       "      <td>Not fleeing</td>\n",
       "    </tr>\n",
       "    <tr>\n",
       "      <th>...</th>\n",
       "      <td>...</td>\n",
       "      <td>...</td>\n",
       "      <td>...</td>\n",
       "      <td>...</td>\n",
       "      <td>...</td>\n",
       "      <td>...</td>\n",
       "      <td>...</td>\n",
       "      <td>...</td>\n",
       "    </tr>\n",
       "    <tr>\n",
       "      <th>2530</th>\n",
       "      <td>shot</td>\n",
       "      <td>gun</td>\n",
       "      <td>31.0</td>\n",
       "      <td>M</td>\n",
       "      <td>NaN</td>\n",
       "      <td>False</td>\n",
       "      <td>attack</td>\n",
       "      <td>Not fleeing</td>\n",
       "    </tr>\n",
       "    <tr>\n",
       "      <th>2531</th>\n",
       "      <td>shot</td>\n",
       "      <td>vehicle</td>\n",
       "      <td>NaN</td>\n",
       "      <td>M</td>\n",
       "      <td>NaN</td>\n",
       "      <td>False</td>\n",
       "      <td>attack</td>\n",
       "      <td>Car</td>\n",
       "    </tr>\n",
       "    <tr>\n",
       "      <th>2532</th>\n",
       "      <td>shot</td>\n",
       "      <td>gun</td>\n",
       "      <td>48.0</td>\n",
       "      <td>M</td>\n",
       "      <td>NaN</td>\n",
       "      <td>False</td>\n",
       "      <td>attack</td>\n",
       "      <td>Car</td>\n",
       "    </tr>\n",
       "    <tr>\n",
       "      <th>2533</th>\n",
       "      <td>shot</td>\n",
       "      <td>vehicle</td>\n",
       "      <td>28.0</td>\n",
       "      <td>M</td>\n",
       "      <td>B</td>\n",
       "      <td>False</td>\n",
       "      <td>attack</td>\n",
       "      <td>Car</td>\n",
       "    </tr>\n",
       "    <tr>\n",
       "      <th>2534</th>\n",
       "      <td>shot</td>\n",
       "      <td>knife</td>\n",
       "      <td>32.0</td>\n",
       "      <td>M</td>\n",
       "      <td>B</td>\n",
       "      <td>True</td>\n",
       "      <td>attack</td>\n",
       "      <td>Not fleeing</td>\n",
       "    </tr>\n",
       "  </tbody>\n",
       "</table>\n",
       "<p>2535 rows × 8 columns</p>\n",
       "</div>"
      ],
      "text/plain": [
       "       manner-of-death       armed   age gender race  mental-illness  \\\n",
       "0                 shot         gun  53.0      M    A            True   \n",
       "1                 shot         gun  47.0      M    W           False   \n",
       "2     shot and Tasered     unarmed  23.0      M    H           False   \n",
       "3                 shot  toy weapon  32.0      M    W            True   \n",
       "4                 shot    nail gun  39.0      M    H           False   \n",
       "...                ...         ...   ...    ...  ...             ...   \n",
       "2530              shot         gun  31.0      M  NaN           False   \n",
       "2531              shot     vehicle   NaN      M  NaN           False   \n",
       "2532              shot         gun  48.0      M  NaN           False   \n",
       "2533              shot     vehicle  28.0      M    B           False   \n",
       "2534              shot       knife  32.0      M    B            True   \n",
       "\n",
       "     threat-level         flee  \n",
       "0          attack  Not fleeing  \n",
       "1          attack  Not fleeing  \n",
       "2           other  Not fleeing  \n",
       "3          attack  Not fleeing  \n",
       "4          attack  Not fleeing  \n",
       "...           ...          ...  \n",
       "2530       attack  Not fleeing  \n",
       "2531       attack          Car  \n",
       "2532       attack          Car  \n",
       "2533       attack          Car  \n",
       "2534       attack  Not fleeing  \n",
       "\n",
       "[2535 rows x 8 columns]"
      ]
     },
     "execution_count": 18,
     "metadata": {},
     "output_type": "execute_result"
    }
   ],
   "source": [
    "police_df.drop(['id','name','body-camera','city','state','date'],axis=1,inplace=True)\n",
    "police_df.rename(columns={'signs-of-mental-illness': 'mental-illness'},inplace=True)\n",
    "police_df"
   ]
  },
  {
   "cell_type": "markdown",
   "metadata": {},
   "source": [
    "### Handling missing values \n",
    "\n",
    "The student-health-data.csv contains 2535 rows. Columns with less than 2535 non-null values indicates missing or NaN values. This means that all 4 columns has missing values. Since there are only 2535 rows in the dataset, removing any missing or NaN values will significantly reduce the precious amount of data available for any algorithm. \n",
    "\n",
    "Therefore, we will replace missing categorical variables with the highest frequency and numerical variables with the mean values. "
   ]
  },
  {
   "cell_type": "code",
   "execution_count": 19,
   "metadata": {},
   "outputs": [
    {
     "name": "stdout",
     "output_type": "stream",
     "text": [
      "<class 'pandas.core.frame.DataFrame'>\n",
      "RangeIndex: 2535 entries, 0 to 2534\n",
      "Data columns (total 8 columns):\n",
      " #   Column           Non-Null Count  Dtype  \n",
      "---  ------           --------------  -----  \n",
      " 0   manner-of-death  2535 non-null   object \n",
      " 1   armed            2526 non-null   object \n",
      " 2   age              2458 non-null   float64\n",
      " 3   gender           2535 non-null   object \n",
      " 4   race             2340 non-null   object \n",
      " 5   mental-illness   2535 non-null   bool   \n",
      " 6   threat-level     2535 non-null   object \n",
      " 7   flee             2470 non-null   object \n",
      "dtypes: bool(1), float64(1), object(6)\n",
      "memory usage: 141.2+ KB\n"
     ]
    }
   ],
   "source": [
    "police_df.info()"
   ]
  },
  {
   "cell_type": "code",
   "execution_count": 20,
   "metadata": {},
   "outputs": [],
   "source": [
    "categorical = ['manner-of-death','armed','gender','race','threat-level','flee']\n",
    "numerical = ['age','mental-illness']\n",
    "def impute_missing_values(data):\n",
    "    for column in data:\n",
    "        if (column in categorical):\n",
    "            most_frequent_category = data[column].mode()[0]\n",
    "            data[column] = data[column].fillna(most_frequent_category)\n",
    "        elif (column in numerical):\n",
    "            data[column] = data[column].fillna(data[column].median())\n",
    "\n",
    "        \n",
    "impute_missing_values(police_df)"
   ]
  },
  {
   "cell_type": "markdown",
   "metadata": {},
   "source": [
    "Using the most frequent occurrence for categorical variables is a common method for imputing missing values. In a world of large scale data, a sample size of 2535 is considered small. This method works well with small datasets.\n",
    "\n",
    "For numerical variable such as age, we will replace missing values with median. This is because the dataset has some outliers and median is more robust to outliers, as compared to mean."
   ]
  },
  {
   "cell_type": "code",
   "execution_count": 21,
   "metadata": {},
   "outputs": [
    {
     "name": "stdout",
     "output_type": "stream",
     "text": [
      "<class 'pandas.core.frame.DataFrame'>\n",
      "RangeIndex: 2535 entries, 0 to 2534\n",
      "Data columns (total 8 columns):\n",
      " #   Column           Non-Null Count  Dtype  \n",
      "---  ------           --------------  -----  \n",
      " 0   manner-of-death  2535 non-null   object \n",
      " 1   armed            2535 non-null   object \n",
      " 2   age              2535 non-null   float64\n",
      " 3   gender           2535 non-null   object \n",
      " 4   race             2535 non-null   object \n",
      " 5   mental-illness   2535 non-null   bool   \n",
      " 6   threat-level     2535 non-null   object \n",
      " 7   flee             2535 non-null   object \n",
      "dtypes: bool(1), float64(1), object(6)\n",
      "memory usage: 141.2+ KB\n"
     ]
    }
   ],
   "source": [
    "police_df.info()"
   ]
  },
  {
   "cell_type": "markdown",
   "metadata": {},
   "source": [
    "### Format the data\n",
    "\n",
    "Here, we will standardize some of the variables to ensure consistency of data structure."
   ]
  },
  {
   "cell_type": "code",
   "execution_count": 22,
   "metadata": {},
   "outputs": [
    {
     "data": {
      "text/html": [
       "<div>\n",
       "<style scoped>\n",
       "    .dataframe tbody tr th:only-of-type {\n",
       "        vertical-align: middle;\n",
       "    }\n",
       "\n",
       "    .dataframe tbody tr th {\n",
       "        vertical-align: top;\n",
       "    }\n",
       "\n",
       "    .dataframe thead th {\n",
       "        text-align: right;\n",
       "    }\n",
       "</style>\n",
       "<table border=\"1\" class=\"dataframe\">\n",
       "  <thead>\n",
       "    <tr style=\"text-align: right;\">\n",
       "      <th></th>\n",
       "      <th>manner-of-death</th>\n",
       "      <th>armed</th>\n",
       "      <th>age</th>\n",
       "      <th>gender</th>\n",
       "      <th>race</th>\n",
       "      <th>mental-illness</th>\n",
       "      <th>threat-level</th>\n",
       "      <th>flee</th>\n",
       "    </tr>\n",
       "  </thead>\n",
       "  <tbody>\n",
       "    <tr>\n",
       "      <th>0</th>\n",
       "      <td>shot</td>\n",
       "      <td>gun</td>\n",
       "      <td>53.0</td>\n",
       "      <td>M</td>\n",
       "      <td>A</td>\n",
       "      <td>True</td>\n",
       "      <td>attack</td>\n",
       "      <td>not fleeing</td>\n",
       "    </tr>\n",
       "    <tr>\n",
       "      <th>1</th>\n",
       "      <td>shot</td>\n",
       "      <td>gun</td>\n",
       "      <td>47.0</td>\n",
       "      <td>M</td>\n",
       "      <td>W</td>\n",
       "      <td>False</td>\n",
       "      <td>attack</td>\n",
       "      <td>not fleeing</td>\n",
       "    </tr>\n",
       "    <tr>\n",
       "      <th>2</th>\n",
       "      <td>shot and tasered</td>\n",
       "      <td>unarmed</td>\n",
       "      <td>23.0</td>\n",
       "      <td>M</td>\n",
       "      <td>H</td>\n",
       "      <td>False</td>\n",
       "      <td>other</td>\n",
       "      <td>not fleeing</td>\n",
       "    </tr>\n",
       "    <tr>\n",
       "      <th>3</th>\n",
       "      <td>shot</td>\n",
       "      <td>toy weapon</td>\n",
       "      <td>32.0</td>\n",
       "      <td>M</td>\n",
       "      <td>W</td>\n",
       "      <td>True</td>\n",
       "      <td>attack</td>\n",
       "      <td>not fleeing</td>\n",
       "    </tr>\n",
       "    <tr>\n",
       "      <th>4</th>\n",
       "      <td>shot</td>\n",
       "      <td>nail gun</td>\n",
       "      <td>39.0</td>\n",
       "      <td>M</td>\n",
       "      <td>H</td>\n",
       "      <td>False</td>\n",
       "      <td>attack</td>\n",
       "      <td>not fleeing</td>\n",
       "    </tr>\n",
       "    <tr>\n",
       "      <th>...</th>\n",
       "      <td>...</td>\n",
       "      <td>...</td>\n",
       "      <td>...</td>\n",
       "      <td>...</td>\n",
       "      <td>...</td>\n",
       "      <td>...</td>\n",
       "      <td>...</td>\n",
       "      <td>...</td>\n",
       "    </tr>\n",
       "    <tr>\n",
       "      <th>2530</th>\n",
       "      <td>shot</td>\n",
       "      <td>gun</td>\n",
       "      <td>31.0</td>\n",
       "      <td>M</td>\n",
       "      <td>W</td>\n",
       "      <td>False</td>\n",
       "      <td>attack</td>\n",
       "      <td>not fleeing</td>\n",
       "    </tr>\n",
       "    <tr>\n",
       "      <th>2531</th>\n",
       "      <td>shot</td>\n",
       "      <td>vehicle</td>\n",
       "      <td>34.0</td>\n",
       "      <td>M</td>\n",
       "      <td>W</td>\n",
       "      <td>False</td>\n",
       "      <td>attack</td>\n",
       "      <td>car</td>\n",
       "    </tr>\n",
       "    <tr>\n",
       "      <th>2532</th>\n",
       "      <td>shot</td>\n",
       "      <td>gun</td>\n",
       "      <td>48.0</td>\n",
       "      <td>M</td>\n",
       "      <td>W</td>\n",
       "      <td>False</td>\n",
       "      <td>attack</td>\n",
       "      <td>car</td>\n",
       "    </tr>\n",
       "    <tr>\n",
       "      <th>2533</th>\n",
       "      <td>shot</td>\n",
       "      <td>vehicle</td>\n",
       "      <td>28.0</td>\n",
       "      <td>M</td>\n",
       "      <td>B</td>\n",
       "      <td>False</td>\n",
       "      <td>attack</td>\n",
       "      <td>car</td>\n",
       "    </tr>\n",
       "    <tr>\n",
       "      <th>2534</th>\n",
       "      <td>shot</td>\n",
       "      <td>knife</td>\n",
       "      <td>32.0</td>\n",
       "      <td>M</td>\n",
       "      <td>B</td>\n",
       "      <td>True</td>\n",
       "      <td>attack</td>\n",
       "      <td>not fleeing</td>\n",
       "    </tr>\n",
       "  </tbody>\n",
       "</table>\n",
       "<p>2535 rows × 8 columns</p>\n",
       "</div>"
      ],
      "text/plain": [
       "       manner-of-death       armed   age gender race  mental-illness  \\\n",
       "0                 shot         gun  53.0      M    A            True   \n",
       "1                 shot         gun  47.0      M    W           False   \n",
       "2     shot and tasered     unarmed  23.0      M    H           False   \n",
       "3                 shot  toy weapon  32.0      M    W            True   \n",
       "4                 shot    nail gun  39.0      M    H           False   \n",
       "...                ...         ...   ...    ...  ...             ...   \n",
       "2530              shot         gun  31.0      M    W           False   \n",
       "2531              shot     vehicle  34.0      M    W           False   \n",
       "2532              shot         gun  48.0      M    W           False   \n",
       "2533              shot     vehicle  28.0      M    B           False   \n",
       "2534              shot       knife  32.0      M    B            True   \n",
       "\n",
       "     threat-level         flee  \n",
       "0          attack  not fleeing  \n",
       "1          attack  not fleeing  \n",
       "2           other  not fleeing  \n",
       "3          attack  not fleeing  \n",
       "4          attack  not fleeing  \n",
       "...           ...          ...  \n",
       "2530       attack  not fleeing  \n",
       "2531       attack          car  \n",
       "2532       attack          car  \n",
       "2533       attack          car  \n",
       "2534       attack  not fleeing  \n",
       "\n",
       "[2535 rows x 8 columns]"
      ]
     },
     "execution_count": 22,
     "metadata": {},
     "output_type": "execute_result"
    }
   ],
   "source": [
    "police_df['manner-of-death'] = police_df['manner-of-death'].str.lower()\n",
    "police_df['flee']= police_df['flee'].str.lower()\n",
    "police_df"
   ]
  },
  {
   "cell_type": "markdown",
   "metadata": {},
   "source": [
    "### Converting categorical variables to numerical for random forest classifier\n",
    "In order for the random forest classifier to work, we will encode the categorical variables into numerical values pd.get_dummies. This method for conversion is preferred over labelencoder(), pd.factorize and one-hot encoding because labelencoder() and pd.factorize might introduce artificial ordinal relationship between the values. Whereas one-hot encoding may lead to multi-collinearity which is undesirable. Multi-collinearity occurs when there is a high correlation between independent variables, which will affect performance of a classification model. "
   ]
  },
  {
   "cell_type": "code",
   "execution_count": 23,
   "metadata": {},
   "outputs": [
    {
     "data": {
      "text/html": [
       "<div>\n",
       "<style scoped>\n",
       "    .dataframe tbody tr th:only-of-type {\n",
       "        vertical-align: middle;\n",
       "    }\n",
       "\n",
       "    .dataframe tbody tr th {\n",
       "        vertical-align: top;\n",
       "    }\n",
       "\n",
       "    .dataframe thead th {\n",
       "        text-align: right;\n",
       "    }\n",
       "</style>\n",
       "<table border=\"1\" class=\"dataframe\">\n",
       "  <thead>\n",
       "    <tr style=\"text-align: right;\">\n",
       "      <th></th>\n",
       "      <th>manner-of-death</th>\n",
       "      <th>age</th>\n",
       "      <th>armed_Taser</th>\n",
       "      <th>armed_air conditioner</th>\n",
       "      <th>armed_ax</th>\n",
       "      <th>armed_baseball bat</th>\n",
       "      <th>armed_baseball bat and bottle</th>\n",
       "      <th>armed_baseball bat and fireplace poker</th>\n",
       "      <th>armed_baton</th>\n",
       "      <th>armed_bayonet</th>\n",
       "      <th>...</th>\n",
       "      <th>race_W</th>\n",
       "      <th>mental-illness_False</th>\n",
       "      <th>mental-illness_True</th>\n",
       "      <th>threat-level_attack</th>\n",
       "      <th>threat-level_other</th>\n",
       "      <th>threat-level_undetermined</th>\n",
       "      <th>flee_car</th>\n",
       "      <th>flee_foot</th>\n",
       "      <th>flee_not fleeing</th>\n",
       "      <th>flee_other</th>\n",
       "    </tr>\n",
       "  </thead>\n",
       "  <tbody>\n",
       "    <tr>\n",
       "      <th>0</th>\n",
       "      <td>shot</td>\n",
       "      <td>53.0</td>\n",
       "      <td>0</td>\n",
       "      <td>0</td>\n",
       "      <td>0</td>\n",
       "      <td>0</td>\n",
       "      <td>0</td>\n",
       "      <td>0</td>\n",
       "      <td>0</td>\n",
       "      <td>0</td>\n",
       "      <td>...</td>\n",
       "      <td>0</td>\n",
       "      <td>0</td>\n",
       "      <td>1</td>\n",
       "      <td>1</td>\n",
       "      <td>0</td>\n",
       "      <td>0</td>\n",
       "      <td>0</td>\n",
       "      <td>0</td>\n",
       "      <td>1</td>\n",
       "      <td>0</td>\n",
       "    </tr>\n",
       "    <tr>\n",
       "      <th>1</th>\n",
       "      <td>shot</td>\n",
       "      <td>47.0</td>\n",
       "      <td>0</td>\n",
       "      <td>0</td>\n",
       "      <td>0</td>\n",
       "      <td>0</td>\n",
       "      <td>0</td>\n",
       "      <td>0</td>\n",
       "      <td>0</td>\n",
       "      <td>0</td>\n",
       "      <td>...</td>\n",
       "      <td>1</td>\n",
       "      <td>1</td>\n",
       "      <td>0</td>\n",
       "      <td>1</td>\n",
       "      <td>0</td>\n",
       "      <td>0</td>\n",
       "      <td>0</td>\n",
       "      <td>0</td>\n",
       "      <td>1</td>\n",
       "      <td>0</td>\n",
       "    </tr>\n",
       "    <tr>\n",
       "      <th>2</th>\n",
       "      <td>shot and tasered</td>\n",
       "      <td>23.0</td>\n",
       "      <td>0</td>\n",
       "      <td>0</td>\n",
       "      <td>0</td>\n",
       "      <td>0</td>\n",
       "      <td>0</td>\n",
       "      <td>0</td>\n",
       "      <td>0</td>\n",
       "      <td>0</td>\n",
       "      <td>...</td>\n",
       "      <td>0</td>\n",
       "      <td>1</td>\n",
       "      <td>0</td>\n",
       "      <td>0</td>\n",
       "      <td>1</td>\n",
       "      <td>0</td>\n",
       "      <td>0</td>\n",
       "      <td>0</td>\n",
       "      <td>1</td>\n",
       "      <td>0</td>\n",
       "    </tr>\n",
       "    <tr>\n",
       "      <th>3</th>\n",
       "      <td>shot</td>\n",
       "      <td>32.0</td>\n",
       "      <td>0</td>\n",
       "      <td>0</td>\n",
       "      <td>0</td>\n",
       "      <td>0</td>\n",
       "      <td>0</td>\n",
       "      <td>0</td>\n",
       "      <td>0</td>\n",
       "      <td>0</td>\n",
       "      <td>...</td>\n",
       "      <td>1</td>\n",
       "      <td>0</td>\n",
       "      <td>1</td>\n",
       "      <td>1</td>\n",
       "      <td>0</td>\n",
       "      <td>0</td>\n",
       "      <td>0</td>\n",
       "      <td>0</td>\n",
       "      <td>1</td>\n",
       "      <td>0</td>\n",
       "    </tr>\n",
       "    <tr>\n",
       "      <th>4</th>\n",
       "      <td>shot</td>\n",
       "      <td>39.0</td>\n",
       "      <td>0</td>\n",
       "      <td>0</td>\n",
       "      <td>0</td>\n",
       "      <td>0</td>\n",
       "      <td>0</td>\n",
       "      <td>0</td>\n",
       "      <td>0</td>\n",
       "      <td>0</td>\n",
       "      <td>...</td>\n",
       "      <td>0</td>\n",
       "      <td>1</td>\n",
       "      <td>0</td>\n",
       "      <td>1</td>\n",
       "      <td>0</td>\n",
       "      <td>0</td>\n",
       "      <td>0</td>\n",
       "      <td>0</td>\n",
       "      <td>1</td>\n",
       "      <td>0</td>\n",
       "    </tr>\n",
       "    <tr>\n",
       "      <th>...</th>\n",
       "      <td>...</td>\n",
       "      <td>...</td>\n",
       "      <td>...</td>\n",
       "      <td>...</td>\n",
       "      <td>...</td>\n",
       "      <td>...</td>\n",
       "      <td>...</td>\n",
       "      <td>...</td>\n",
       "      <td>...</td>\n",
       "      <td>...</td>\n",
       "      <td>...</td>\n",
       "      <td>...</td>\n",
       "      <td>...</td>\n",
       "      <td>...</td>\n",
       "      <td>...</td>\n",
       "      <td>...</td>\n",
       "      <td>...</td>\n",
       "      <td>...</td>\n",
       "      <td>...</td>\n",
       "      <td>...</td>\n",
       "      <td>...</td>\n",
       "    </tr>\n",
       "    <tr>\n",
       "      <th>2530</th>\n",
       "      <td>shot</td>\n",
       "      <td>31.0</td>\n",
       "      <td>0</td>\n",
       "      <td>0</td>\n",
       "      <td>0</td>\n",
       "      <td>0</td>\n",
       "      <td>0</td>\n",
       "      <td>0</td>\n",
       "      <td>0</td>\n",
       "      <td>0</td>\n",
       "      <td>...</td>\n",
       "      <td>1</td>\n",
       "      <td>1</td>\n",
       "      <td>0</td>\n",
       "      <td>1</td>\n",
       "      <td>0</td>\n",
       "      <td>0</td>\n",
       "      <td>0</td>\n",
       "      <td>0</td>\n",
       "      <td>1</td>\n",
       "      <td>0</td>\n",
       "    </tr>\n",
       "    <tr>\n",
       "      <th>2531</th>\n",
       "      <td>shot</td>\n",
       "      <td>34.0</td>\n",
       "      <td>0</td>\n",
       "      <td>0</td>\n",
       "      <td>0</td>\n",
       "      <td>0</td>\n",
       "      <td>0</td>\n",
       "      <td>0</td>\n",
       "      <td>0</td>\n",
       "      <td>0</td>\n",
       "      <td>...</td>\n",
       "      <td>1</td>\n",
       "      <td>1</td>\n",
       "      <td>0</td>\n",
       "      <td>1</td>\n",
       "      <td>0</td>\n",
       "      <td>0</td>\n",
       "      <td>1</td>\n",
       "      <td>0</td>\n",
       "      <td>0</td>\n",
       "      <td>0</td>\n",
       "    </tr>\n",
       "    <tr>\n",
       "      <th>2532</th>\n",
       "      <td>shot</td>\n",
       "      <td>48.0</td>\n",
       "      <td>0</td>\n",
       "      <td>0</td>\n",
       "      <td>0</td>\n",
       "      <td>0</td>\n",
       "      <td>0</td>\n",
       "      <td>0</td>\n",
       "      <td>0</td>\n",
       "      <td>0</td>\n",
       "      <td>...</td>\n",
       "      <td>1</td>\n",
       "      <td>1</td>\n",
       "      <td>0</td>\n",
       "      <td>1</td>\n",
       "      <td>0</td>\n",
       "      <td>0</td>\n",
       "      <td>1</td>\n",
       "      <td>0</td>\n",
       "      <td>0</td>\n",
       "      <td>0</td>\n",
       "    </tr>\n",
       "    <tr>\n",
       "      <th>2533</th>\n",
       "      <td>shot</td>\n",
       "      <td>28.0</td>\n",
       "      <td>0</td>\n",
       "      <td>0</td>\n",
       "      <td>0</td>\n",
       "      <td>0</td>\n",
       "      <td>0</td>\n",
       "      <td>0</td>\n",
       "      <td>0</td>\n",
       "      <td>0</td>\n",
       "      <td>...</td>\n",
       "      <td>0</td>\n",
       "      <td>1</td>\n",
       "      <td>0</td>\n",
       "      <td>1</td>\n",
       "      <td>0</td>\n",
       "      <td>0</td>\n",
       "      <td>1</td>\n",
       "      <td>0</td>\n",
       "      <td>0</td>\n",
       "      <td>0</td>\n",
       "    </tr>\n",
       "    <tr>\n",
       "      <th>2534</th>\n",
       "      <td>shot</td>\n",
       "      <td>32.0</td>\n",
       "      <td>0</td>\n",
       "      <td>0</td>\n",
       "      <td>0</td>\n",
       "      <td>0</td>\n",
       "      <td>0</td>\n",
       "      <td>0</td>\n",
       "      <td>0</td>\n",
       "      <td>0</td>\n",
       "      <td>...</td>\n",
       "      <td>0</td>\n",
       "      <td>0</td>\n",
       "      <td>1</td>\n",
       "      <td>1</td>\n",
       "      <td>0</td>\n",
       "      <td>0</td>\n",
       "      <td>0</td>\n",
       "      <td>0</td>\n",
       "      <td>1</td>\n",
       "      <td>0</td>\n",
       "    </tr>\n",
       "  </tbody>\n",
       "</table>\n",
       "<p>2535 rows × 87 columns</p>\n",
       "</div>"
      ],
      "text/plain": [
       "       manner-of-death   age  armed_Taser  armed_air conditioner  armed_ax  \\\n",
       "0                 shot  53.0            0                      0         0   \n",
       "1                 shot  47.0            0                      0         0   \n",
       "2     shot and tasered  23.0            0                      0         0   \n",
       "3                 shot  32.0            0                      0         0   \n",
       "4                 shot  39.0            0                      0         0   \n",
       "...                ...   ...          ...                    ...       ...   \n",
       "2530              shot  31.0            0                      0         0   \n",
       "2531              shot  34.0            0                      0         0   \n",
       "2532              shot  48.0            0                      0         0   \n",
       "2533              shot  28.0            0                      0         0   \n",
       "2534              shot  32.0            0                      0         0   \n",
       "\n",
       "      armed_baseball bat  armed_baseball bat and bottle  \\\n",
       "0                      0                              0   \n",
       "1                      0                              0   \n",
       "2                      0                              0   \n",
       "3                      0                              0   \n",
       "4                      0                              0   \n",
       "...                  ...                            ...   \n",
       "2530                   0                              0   \n",
       "2531                   0                              0   \n",
       "2532                   0                              0   \n",
       "2533                   0                              0   \n",
       "2534                   0                              0   \n",
       "\n",
       "      armed_baseball bat and fireplace poker  armed_baton  armed_bayonet  ...  \\\n",
       "0                                          0            0              0  ...   \n",
       "1                                          0            0              0  ...   \n",
       "2                                          0            0              0  ...   \n",
       "3                                          0            0              0  ...   \n",
       "4                                          0            0              0  ...   \n",
       "...                                      ...          ...            ...  ...   \n",
       "2530                                       0            0              0  ...   \n",
       "2531                                       0            0              0  ...   \n",
       "2532                                       0            0              0  ...   \n",
       "2533                                       0            0              0  ...   \n",
       "2534                                       0            0              0  ...   \n",
       "\n",
       "      race_W  mental-illness_False  mental-illness_True  threat-level_attack  \\\n",
       "0          0                     0                    1                    1   \n",
       "1          1                     1                    0                    1   \n",
       "2          0                     1                    0                    0   \n",
       "3          1                     0                    1                    1   \n",
       "4          0                     1                    0                    1   \n",
       "...      ...                   ...                  ...                  ...   \n",
       "2530       1                     1                    0                    1   \n",
       "2531       1                     1                    0                    1   \n",
       "2532       1                     1                    0                    1   \n",
       "2533       0                     1                    0                    1   \n",
       "2534       0                     0                    1                    1   \n",
       "\n",
       "      threat-level_other  threat-level_undetermined  flee_car  flee_foot  \\\n",
       "0                      0                          0         0          0   \n",
       "1                      0                          0         0          0   \n",
       "2                      1                          0         0          0   \n",
       "3                      0                          0         0          0   \n",
       "4                      0                          0         0          0   \n",
       "...                  ...                        ...       ...        ...   \n",
       "2530                   0                          0         0          0   \n",
       "2531                   0                          0         1          0   \n",
       "2532                   0                          0         1          0   \n",
       "2533                   0                          0         1          0   \n",
       "2534                   0                          0         0          0   \n",
       "\n",
       "      flee_not fleeing  flee_other  \n",
       "0                    1           0  \n",
       "1                    1           0  \n",
       "2                    1           0  \n",
       "3                    1           0  \n",
       "4                    1           0  \n",
       "...                ...         ...  \n",
       "2530                 1           0  \n",
       "2531                 0           0  \n",
       "2532                 0           0  \n",
       "2533                 0           0  \n",
       "2534                 1           0  \n",
       "\n",
       "[2535 rows x 87 columns]"
      ]
     },
     "execution_count": 23,
     "metadata": {},
     "output_type": "execute_result"
    }
   ],
   "source": [
    "new_df = pd.get_dummies(police_df, columns=['armed', 'gender','race','mental-illness','threat-level','flee'])\n",
    "new_df"
   ]
  },
  {
   "cell_type": "markdown",
   "metadata": {},
   "source": [
    "### Handling outliers\n",
    "\n",
    "From the EDA conducted earlier, the boxplot on age and manner-of-death actually indicated outliers. However, we will not be removing the outliers because of the nature of the dataset. Since mental-illness is a contributor to people being shot at, which happens to be the case for our analysis. Hostile behavior may be attributed to the mental state of a person and that was the argument brought up in the hypothesis. Therefore, we will not be removing the outliers because those are important data points to be included for more accurate analysis."
   ]
  },
  {
   "cell_type": "markdown",
   "metadata": {},
   "source": [
    "<h1>Data Analysis</h1>\n",
    "\n",
    "This section will be used to explore the hypothesis where we will look into the biggest influencing factors affecting the rate of death. We will be training a classfication model with numerical variables, followed by a discussion on findings and improvements to the model"
   ]
  },
  {
   "cell_type": "code",
   "execution_count": 24,
   "metadata": {},
   "outputs": [],
   "source": [
    "X = new_df.drop('manner-of-death',axis=1)\n",
    "y = police_df['manner-of-death']\n",
    "X_train,X_test,y_train,y_test = train_test_split(X,y, test_size=0.2,random_state=42)"
   ]
  },
  {
   "cell_type": "code",
   "execution_count": 25,
   "metadata": {},
   "outputs": [
    {
     "name": "stdout",
     "output_type": "stream",
     "text": [
      "(2028, 86)\n",
      "(507, 86)\n",
      "(2028,)\n",
      "(507,)\n"
     ]
    }
   ],
   "source": [
    "print(X_train.shape)\n",
    "print(X_test.shape)\n",
    "print(y_train.shape)\n",
    "print(y_test.shape)"
   ]
  },
  {
   "cell_type": "code",
   "execution_count": 26,
   "metadata": {
    "scrolled": true
   },
   "outputs": [
    {
     "name": "stdout",
     "output_type": "stream",
     "text": [
      "                  precision    recall  f1-score   support\n",
      "\n",
      "            shot       0.92      0.97      0.95       466\n",
      "shot and tasered       0.19      0.07      0.11        41\n",
      "\n",
      "        accuracy                           0.90       507\n",
      "       macro avg       0.56      0.52      0.53       507\n",
      "    weighted avg       0.86      0.90      0.88       507\n",
      "\n"
     ]
    }
   ],
   "source": [
    "rf = RandomForestClassifier(random_state = 42)\n",
    "rf.fit(X_train,y_train)\n",
    "preds = rf.predict(X_test)\n",
    "print(classification_report(y_test, preds))"
   ]
  },
  {
   "cell_type": "markdown",
   "metadata": {},
   "source": [
    "The classification report shows promising result for the target shot but not for the other. This raises questions pertaining to the distribution of the dataset. Meaning, there are 172 \"shot and tasered\" as compared to 2363 \"shot\". This is equivalent to 6.785% of the entire dataset. We will perform a simple resampling to see if the results will improve."
   ]
  },
  {
   "cell_type": "markdown",
   "metadata": {},
   "source": [
    "### Resampling\n",
    "\n",
    "We will be using SMOTE resampling method, known as Synthetic Minority Over-sampling Technique. SMOTE is a type of over-sampling method that is used to correct the imbalances in the groups. This technique creates new data instances of the minority groups by copying existing minority instances and making small changes to them."
   ]
  },
  {
   "cell_type": "code",
   "execution_count": 27,
   "metadata": {},
   "outputs": [
    {
     "name": "stdout",
     "output_type": "stream",
     "text": [
      "                  precision    recall  f1-score   support\n",
      "\n",
      "            shot       0.92      0.93      0.93       466\n",
      "shot and tasered       0.14      0.12      0.13        41\n",
      "\n",
      "        accuracy                           0.87       507\n",
      "       macro avg       0.53      0.53      0.53       507\n",
      "    weighted avg       0.86      0.87      0.86       507\n",
      "\n"
     ]
    }
   ],
   "source": [
    "# transform the dataset\n",
    "oversample = SMOTE()\n",
    "X, y = oversample.fit_resample(X_train, y_train)\n",
    "\n",
    "rf = RandomForestClassifier(random_state = 42)\n",
    "rf.fit(X,y)\n",
    "preds = rf.predict(X_test)\n",
    "print(classification_report(y_test, preds))\n"
   ]
  },
  {
   "cell_type": "markdown",
   "metadata": {},
   "source": [
    "Even after resampling, the model's performance in predicting \"shot and tasered\" is has not improved. In fact, it actually went down a little. In order to understand this issue, we need to understand the reasons for it.\n",
    "\n",
    "Precision and recall metrics take the classification accuracy one step further and allow us to get a more specific understanding of model evaluation.\n",
    "\n",
    "The focus of precision is positive predictions. It indicates how many positive predictions are true.\n",
    "\n",
    "The focus of recall is actual positive classes. It indicates how many of the positive classes the model is able to predict correctly.\n",
    "\n",
    "F1 score is a more useful measure than accuracy for problems with uneven class distribution because it takes into account both false positive and false negatives.\n",
    "\n",
    "This model is actually good at predicting cases where people are \"shot\", but not \"shot and tasered\". Let me deep dive into the possible reasons by doing further data exploration to see if there is a huge discrepancies between people who are \"shot\", and \"shot and tasered\""
   ]
  },
  {
   "cell_type": "markdown",
   "metadata": {},
   "source": [
    "# Further analysis"
   ]
  },
  {
   "cell_type": "markdown",
   "metadata": {},
   "source": [
    "### Analysis on behavior for people that were \"shot and tasered\""
   ]
  },
  {
   "cell_type": "code",
   "execution_count": 28,
   "metadata": {},
   "outputs": [
    {
     "data": {
      "image/png": "[encoded data removed]",
      "text/plain": [
       "<Figure size 936x504 with 1 Axes>"
      ]
     },
     "metadata": {
      "needs_background": "light"
     },
     "output_type": "display_data"
    }
   ],
   "source": [
    "f, ax = plt.subplots(figsize=(13,7))\n",
    "police_df[police_df['manner-of-death']==\"shot and tasered\"]['flee'].value_counts().plot(kind=\"barh\")\n",
    "ax.invert_yaxis()\n",
    "ax.title.set_text('Did people got shot and tasered while fleeing?')"
   ]
  },
  {
   "cell_type": "code",
   "execution_count": 29,
   "metadata": {},
   "outputs": [
    {
     "data": {
      "image/png": "[encoded data removed]",
      "text/plain": [
       "<Figure size 936x504 with 1 Axes>"
      ]
     },
     "metadata": {
      "needs_background": "light"
     },
     "output_type": "display_data"
    }
   ],
   "source": [
    "f, ax = plt.subplots(figsize=(13,7))\n",
    "police_df[police_df['manner-of-death']==\"shot and tasered\"]['threat-level'].value_counts().plot(kind=\"barh\")\n",
    "ax.invert_yaxis()\n",
    "ax.title.set_text('Threat level for people that were shot and tasered')"
   ]
  },
  {
   "cell_type": "code",
   "execution_count": 30,
   "metadata": {},
   "outputs": [
    {
     "data": {
      "image/png": "[encoded data removed]",
      "text/plain": [
       "<Figure size 936x504 with 1 Axes>"
      ]
     },
     "metadata": {
      "needs_background": "light"
     },
     "output_type": "display_data"
    }
   ],
   "source": [
    "f, ax = plt.subplots(figsize=(13,7))\n",
    "police_df[police_df['manner-of-death']==\"shot and tasered\"]['mental-illness'].value_counts().plot(kind=\"barh\")\n",
    "ax.invert_yaxis()\n",
    "ax.title.set_text('Mental-illness for people that were shot and tasered')"
   ]
  },
  {
   "cell_type": "code",
   "execution_count": 31,
   "metadata": {},
   "outputs": [
    {
     "data": {
      "image/png": "[encoded data removed]",
      "text/plain": [
       "<Figure size 936x504 with 1 Axes>"
      ]
     },
     "metadata": {
      "needs_background": "light"
     },
     "output_type": "display_data"
    }
   ],
   "source": [
    "f, ax = plt.subplots(figsize=(13,7))\n",
    "police_df[police_df['manner-of-death']==\"shot and tasered\"]['armed'].value_counts().plot(kind=\"barh\")\n",
    "ax.invert_yaxis()\n",
    "ax.title.set_text('Armed posession for people that were shot and tasered')"
   ]
  },
  {
   "cell_type": "markdown",
   "metadata": {},
   "source": [
    "### Analysis on behavior for people that were \"shot\""
   ]
  },
  {
   "cell_type": "code",
   "execution_count": 32,
   "metadata": {},
   "outputs": [
    {
     "data": {
      "image/png": "[encoded data removed]",
      "text/plain": [
       "<Figure size 936x504 with 1 Axes>"
      ]
     },
     "metadata": {
      "needs_background": "light"
     },
     "output_type": "display_data"
    }
   ],
   "source": [
    "f, ax = plt.subplots(figsize=(13,7))\n",
    "police_df[police_df['manner-of-death']==\"shot\"]['flee'].value_counts().plot(kind=\"barh\")\n",
    "ax.invert_yaxis()\n",
    "ax.title.set_text('Did people got shot while fleeing?')"
   ]
  },
  {
   "cell_type": "code",
   "execution_count": 33,
   "metadata": {},
   "outputs": [
    {
     "data": {
      "image/png": "[encoded data removed]",
      "text/plain": [
       "<Figure size 936x504 with 1 Axes>"
      ]
     },
     "metadata": {
      "needs_background": "light"
     },
     "output_type": "display_data"
    }
   ],
   "source": [
    "f, ax = plt.subplots(figsize=(13,7))\n",
    "police_df[police_df['manner-of-death']==\"shot\"]['threat-level'].value_counts().plot(kind=\"barh\")\n",
    "ax.invert_yaxis()\n",
    "ax.title.set_text('Threat level for people that were shot')"
   ]
  },
  {
   "cell_type": "code",
   "execution_count": 34,
   "metadata": {},
   "outputs": [
    {
     "data": {
      "image/png": "[encoded data removed]",
      "text/plain": [
       "<Figure size 936x504 with 1 Axes>"
      ]
     },
     "metadata": {
      "needs_background": "light"
     },
     "output_type": "display_data"
    }
   ],
   "source": [
    "f, ax = plt.subplots(figsize=(13,7))\n",
    "police_df[police_df['manner-of-death']==\"shot\"]['mental-illness'].value_counts().plot(kind=\"barh\")\n",
    "ax.invert_yaxis()\n",
    "ax.title.set_text('Mental-illness for people that were shot')"
   ]
  },
  {
   "cell_type": "code",
   "execution_count": 35,
   "metadata": {},
   "outputs": [
    {
     "data": {
      "image/png": "[encoded data removed]",
      "text/plain": [
       "<Figure size 936x504 with 1 Axes>"
      ]
     },
     "metadata": {
      "needs_background": "light"
     },
     "output_type": "display_data"
    }
   ],
   "source": [
    "f, ax = plt.subplots(figsize=(13,7))\n",
    "police_df[police_df['manner-of-death']==\"shot\"]['armed'].value_counts().plot(kind=\"barh\")\n",
    "ax.invert_yaxis()\n",
    "ax.title.set_text('Armed posession for people that were shot')"
   ]
  },
  {
   "cell_type": "markdown",
   "metadata": {},
   "source": [
    "## Discussion of analysis results\n",
    "\n",
    "A deeper analysis on the behaviour of people who got shot and tasered shows that majority of them were not fleeing the scene. This data correspond to the information showing that out of 172 people who got shot and tasered, 77 of them (~45%) had high threat level where they attempted to attack someone. 88 of these cases are classified as “other”, which would presumably be some form of danger act. Almost 60%(114 out of 172) of the people in this category does not have mental-illness. And as mentioned in previous exploratory data analysis, an extremely high percentage of people in this category has a knife in possession. Combining with the high threat level, the fact that the deceased was not fleeing at the time of being shot, and the type of weapon in possession (melee weapons like knife), there are strong evidence to support the claim that people generally get tasered before being shot by the police\n",
    "\n",
    "On the other hand, those that were shot showed that almost 70% (1625 out of 2363) people were not fleeing the scene at the time they were shot. Similarly, 65% (1534 of 2363) of the people were classified as a high threat level, which means that they were in attack mode at the time of shooting (20% more than those that were \"shot and tasered\"). Majority of the deceased had no mental-illness as well. As mentioned in the EDA earlier,  approximately 60% (1383 of 2363) people were carrying a gun with them at the time of being shot. As a result, combining with the high threat level, the fact that the deceased was not fleeing at the time of being shot, and the type of weapon in possession (melee weapons like knife), it is very likely that a person will be shot at if he/she display such behaviors.\n",
    "\n",
    "Putting it all together, it seemed that if a person is carrying a long-range armed weapon such as a gun, and exhibit hostile behaviors such as attacking or threatening lives, there is a high chance that he/she will be shot immediately by the police officers. As compared to being tasered, followed by being shot. "
   ]
  },
  {
   "cell_type": "markdown",
   "metadata": {},
   "source": [
    "## Revision of hypothesis\n"
   ]
  },
  {
   "cell_type": "markdown",
   "metadata": {},
   "source": [
    "After numerous round of analysis, I believe that the hypothesis could be refined more specifically. This is especially so in our case, since all of our data points are people who had already died. The initial hypothesis\n",
    "- A person would most likely be shot (not tasered and shot) by a police officer in the United States if he/she carries a weapon and exhibit hostile behaviors.\n",
    "\n",
    "is not suitable because 90% that were shot at was actually found with weapons. A more suitable and revised hypothesis would be \n",
    "\n",
    "- A person would most likely be shot immediately (not tasered and shot) by a police officer in the United States if he/she carries a long-range weapon such as guns, while displaying hostile behaviors."
   ]
  },
  {
   "cell_type": "markdown",
   "metadata": {},
   "source": [
    "<h1>Conclusion</h1>\n",
    "\n",
    "After numerous round of analysis, I conclude that there are evidence to support revised hypothesis\n",
    "\n",
    "- A person would most likely be shot immediately (not tasered and shot) by a police officer in the United States if he/she carries a long-range weapon such as guns, while displaying hostile behaviors.\n",
    "\n",
    "\n",
    "With regards to the random forest classifer, I believe that it had successfully answered the hypothesis by identifying a pattern in the behaviors of the deceased before they were killed. With a precision of 0.92, recall of 0.94 and F1_score of 0.93, the model were able to capture the correct attribute and behavior that leads to a person being \"shot\". As to why the evaluation metrics is so low for \"shot and tasered\", I believe it could be due to the inbalanced class, or the fact that there wasn't any concrete signs of behaviors picked up by the model. I believe there are a lot more opportunities to improve the model.\n",
    "\n",
    "Finally, I believe that with these insights, much could be done to educate the public. It is unlikely that an act of crime is going to stop in the near future. But more could be done to ensure that people do not get killed during momentary moments when he/she is in a state of confusion, panic or simply if one feels threatened. "
   ]
  },
  {
   "cell_type": "markdown",
   "metadata": {},
   "source": [
    "# References\n",
    "\n",
    "https://www.statista.com/statistics/585152/people-shot-to-death-by-us-police-by-race/\n",
    "\n",
    "https://www.census.gov/quickfacts/fact/table/US/RHI325220\n",
    "\n",
    "https://towardsdatascience.com/handling-missing-data-12ac7c59eebc\n",
    "\n",
    "https://towardsdatascience.com/how-to-handle-smote-data-in-imbalanced-classification-problems-cf4b86e8c6a1"
   ]
  }
 ],
 "metadata": {
  "kernelspec": {
   "display_name": "Python 3",
   "language": "python",
   "name": "python3"
  },
  "language_info": {
   "codemirror_mode": {
    "name": "ipython",
    "version": 3
   },
   "file_extension": ".py",
   "mimetype": "text/x-python",
   "name": "python",
   "nbconvert_exporter": "python",
   "pygments_lexer": "ipython3",
   "version": "3.8.5"
  }
 },
 "nbformat": 4,
 "nbformat_minor": 4
}
